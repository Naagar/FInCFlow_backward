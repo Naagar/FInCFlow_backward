{
  "nbformat": 4,
  "nbformat_minor": 0,
  "metadata": {
    "colab": {
      "provenance": []
    },
    "kernelspec": {
      "name": "python3",
      "display_name": "Python 3"
    },
    "language_info": {
      "name": "python"
    }
  },
  "cells": [
    {
      "cell_type": "code",
      "source": [
        "import torch.nn as nn\n",
        "import torch\n",
        "import numpy as np"
      ],
      "metadata": {
        "id": "v5UMrJ2g-wnq"
      },
      "execution_count": 1,
      "outputs": []
    },
    {
      "cell_type": "markdown",
      "source": [
        "## Solve for x from y and w\n",
        "$$x = y * W$$"
      ],
      "metadata": {
        "id": "EOJuKb905Szk"
      }
    },
    {
      "cell_type": "code",
      "source": [
        "def solve_for_x(y, weights, size_K = 2):\n",
        "  H, W = y.shape[0], y.shape[1]\n",
        "  k_H, k_W  =  size_K, size_K\n",
        "  x = y.clone()\n",
        "  for h in range(H):\n",
        "    for w in range(W):\n",
        "      for k_h in range(k_H):\n",
        "        if h-k_h<0:\n",
        "          break\n",
        "        for k_w in range(k_W):\n",
        "          if w-k_w<0:\n",
        "            break\n",
        "          x[h,w] = x[h,w] - x[h-k_h, w-k_w] * weights[k_H-k_h-1, k_W-k_w-1]\n",
        "  return x\n",
        "          "
      ],
      "metadata": {
        "id": "oD2AfT9a5SLk"
      },
      "execution_count": null,
      "outputs": []
    },
    {
      "cell_type": "code",
      "source": [
        "def solve_parallel(y, weights, size_K):\n",
        "    H, W = y.shape\n",
        "    x = y.clone()\n",
        "    k_H, k_W = size_K[0], size_K[1] # height od kernel \n",
        "    if not H % 2 and W % 2: \n",
        "        n_steps = 2 * W # diagonal\n",
        "    else:\n",
        "        n_steps = 2 * W - 1 # diagonal\n",
        "    n_parallel_op = min(H, W) # of parallel operations \n",
        "    for i in range(n_steps):\n",
        "      for j in range(max(H, W)):\n",
        "          if j > i:\n",
        "              break\n",
        "          pixel = (j, i - j)\n",
        "          h = pixel[0]\n",
        "          w = pixel[1]\n",
        "          if h >= H or w >= W:\n",
        "              continue \n",
        "          M_row = h * W + w\n",
        "          for k_h in range(k_H):\n",
        "              if h - k_h < 0:\n",
        "                  break\n",
        "              for k_w in range(k_W):\n",
        "                  if w - k_w < 0:\n",
        "                      break\n",
        "                  x[h, w] -= x[h - k_h, w - k_w] * \\\n",
        "                                            weights[ k_H - k_h - 1, k_W - k_w - 1]\n",
        "    return x"
      ],
      "metadata": {
        "id": "Dot_Stl2AC3Q"
      },
      "execution_count": null,
      "outputs": []
    },
    {
      "cell_type": "code",
      "source": [
        "n = 3\n",
        "k = 3\n",
        "m = nn.Conv2d(1, 1, k, bias=False, stride=1, padding=\"same\")\n",
        "target = torch.randn(1, 1, n, n)\n",
        "weight = np.random.randn(k,k)\n",
        "m.weight = nn.Parameter(torch.FloatTensor(weight).reshape(shape=(1,1,k,k))).requires_grad_()\n",
        "input = np.random.randn(n,n)\n",
        "# input = np.array([[1, 2, 3], [4, 5, 6], [7, 8, 9]], dtype=np.float32)\n",
        "input_t = torch.from_numpy(input).float()\n",
        "input_t = input_t.reshape(shape=(1,1,n,n)).requires_grad_()\n",
        "\n",
        "# m.bias = nn.Parameter(torch.zeros(1))\n",
        "output = m(input_t)\n",
        "# out =  target - output"
      ],
      "metadata": {
        "id": "CR_kSZmn-67X"
      },
      "execution_count": 2,
      "outputs": []
    },
    {
      "cell_type": "code",
      "source": [],
      "metadata": {
        "id": "gPb2apv4aFpH"
      },
      "execution_count": null,
      "outputs": []
    },
    {
      "cell_type": "code",
      "source": [
        "m.bias"
      ],
      "metadata": {
        "id": "m9wTr8k7R9uN"
      },
      "execution_count": 3,
      "outputs": []
    },
    {
      "cell_type": "code",
      "source": [
        "def convolve(img: np.array, kernel: np.array, output_size: int) -> np.array:\n",
        "    # Assuming a rectangular image\n",
        "    # tgt_size = calculate_target_size(\n",
        "    #     img_size=img.shape[0],\n",
        "    #     kernel_size=kernel.shape[0]\n",
        "    # )\n",
        "    # To simplify things\n",
        "    tgt_size = output_size\n",
        "    k = kernel.shape[0]\n",
        "    \n",
        "    # 2D array of zeros\n",
        "    convolved_img = np.zeros(shape=(tgt_size, tgt_size))\n",
        "    \n",
        "    # Iterate over the rows\n",
        "    for i in range(tgt_size):\n",
        "        # Iterate over the columns\n",
        "        for j in range(tgt_size):\n",
        "            # img[i, j] = individual pixel value\n",
        "            # Get the current matrix\n",
        "            mat = img[i:i+k, j:j+k]\n",
        "            \n",
        "            # Apply the convolution - element-wise multiplication and summation of the result\n",
        "            # Store the result to i-th row and j-th column of our convolved_img array\n",
        "            convolved_img[i, j] = np.sum(np.multiply(mat, kernel))\n",
        "            \n",
        "    return convolved_img"
      ],
      "metadata": {
        "id": "gTiFTptZH4Mp"
      },
      "execution_count": 4,
      "outputs": []
    },
    {
      "cell_type": "code",
      "source": [
        "img_pad = np.pad(input, ((1, 1), (1, 1)), 'constant')\n",
        "# print(img_pad)\n",
        "output1 = convolve(img_pad, weight, output_size=n)"
      ],
      "metadata": {
        "id": "RW3yQJsTAUtQ"
      },
      "execution_count": 5,
      "outputs": []
    },
    {
      "cell_type": "code",
      "source": [
        "loss_t = (output*output).sum()"
      ],
      "metadata": {
        "id": "ghtvaE3_pmBL"
      },
      "execution_count": 6,
      "outputs": []
    },
    {
      "cell_type": "code",
      "source": [
        "print(output.shape, output1.shape)\n",
        "print(output)\n",
        "print(output1)\n",
        "print(np.abs((output.detach().numpy()[0,0] - output1)).sum())"
      ],
      "metadata": {
        "colab": {
          "base_uri": "https://localhost:8080/"
        },
        "id": "1C9L3HrDJsZo",
        "outputId": "7d377337-facf-4314-ec0c-c2971a2fd702"
      },
      "execution_count": 7,
      "outputs": [
        {
          "output_type": "stream",
          "name": "stdout",
          "text": [
            "torch.Size([1, 1, 3, 3]) (3, 3)\n",
            "tensor([[[[ 1.5014, -0.6445,  0.2733],\n",
            "          [ 1.0038, -1.1332,  0.4172],\n",
            "          [ 0.2419, -0.3117,  1.1860]]]], grad_fn=<ConvolutionBackward0>)\n",
            "[[ 1.50137474 -0.64445432  0.2733294 ]\n",
            " [ 1.00376013 -1.13321239  0.41722132]\n",
            " [ 0.24192223 -0.31171648  1.1860388 ]]\n",
            "3.7124478075023504e-07\n"
          ]
        }
      ]
    },
    {
      "cell_type": "code",
      "source": [
        "output1_mean = output1.sum()\n",
        "output_mean = output.sum()\n",
        "print(output_mean, output_mean)"
      ],
      "metadata": {
        "colab": {
          "base_uri": "https://localhost:8080/"
        },
        "id": "XzL4-G09RybF",
        "outputId": "11c339f8-75f6-4b22-dca6-5295b360ec31"
      },
      "execution_count": 8,
      "outputs": [
        {
          "output_type": "stream",
          "name": "stdout",
          "text": [
            "tensor(2.5343, grad_fn=<SumBackward0>) tensor(2.5343, grad_fn=<SumBackward0>)\n"
          ]
        }
      ]
    },
    {
      "cell_type": "code",
      "source": [],
      "metadata": {
        "id": "CxQoqX0AaIdQ"
      },
      "execution_count": 8,
      "outputs": []
    },
    {
      "cell_type": "code",
      "source": [
        "# loss = np.sum(output-image)\n",
        "\n",
        "error1  = target - output1\n",
        "error = target - output\n",
        "L = (error1*error1)/2\n",
        "dL_dy = 2*output1\n",
        "print(error1.sum())\n",
        "print(error.sum())\n"
      ],
      "metadata": {
        "colab": {
          "base_uri": "https://localhost:8080/"
        },
        "id": "aD9IxbXhL6bv",
        "outputId": "9ced9c70-f629-4c2e-a61e-ed80db96a759"
      },
      "execution_count": 9,
      "outputs": [
        {
          "output_type": "stream",
          "name": "stdout",
          "text": [
            "tensor(-6.5657, dtype=torch.float64)\n",
            "tensor(-6.5657, grad_fn=<SumBackward0>)\n"
          ]
        }
      ]
    },
    {
      "cell_type": "code",
      "source": [
        "loss_t.backward() # backprop for nn.con2d"
      ],
      "metadata": {
        "id": "Nue3jm1DoIO4"
      },
      "execution_count": 10,
      "outputs": []
    },
    {
      "cell_type": "code",
      "source": [
        "# dL_dy_pad = np.pad(dL_dy, 1, 'constant', 0)\n",
        "# dL_dy_pad = np.pad(error1.detach().numpy()[0,0], ((1, 1), (1, 1)), 'constant', constant_values=((0,0), (0,0)))\n",
        "# print(dL_dy_pad)"
      ],
      "metadata": {
        "id": "RPj7ukhP2icj"
      },
      "execution_count": null,
      "outputs": []
    },
    {
      "cell_type": "code",
      "source": [
        "# print(weight)"
      ],
      "metadata": {
        "id": "s0nm6O0OL6Ym"
      },
      "execution_count": null,
      "outputs": []
    },
    {
      "cell_type": "code",
      "source": [
        "weight_rot = weight[::-1, ::-1]\n",
        "# weight_rot"
      ],
      "metadata": {
        "id": "3nHqkFXTh6HI"
      },
      "execution_count": 11,
      "outputs": []
    },
    {
      "cell_type": "code",
      "source": [],
      "metadata": {
        "id": "d-oicuWyh7zc"
      },
      "execution_count": null,
      "outputs": []
    },
    {
      "cell_type": "code",
      "source": [
        "\n",
        "dL_dy_pad = np.pad(dL_dy, ((1,2),(1,1)),'constant')\n",
        "# weight_rot_pad= np.pad(weight_rot, ((2, 2), (2, 2)), 'constant')\n",
        "# print(weight)\n",
        "# dL_dy = \n",
        "print('/n')\n",
        "print(input_t.grad)\n",
        "# dL_dy_2d = dL_dy\n",
        "# print(dL_dy)\n",
        "dL_dx = convolve(dL_dy_pad, weight_rot, output_size=n)\n",
        "print(dL_dx)"
      ],
      "metadata": {
        "colab": {
          "base_uri": "https://localhost:8080/"
        },
        "id": "uChbwRbA1N8c",
        "outputId": "b93749ab-eea1-4faf-e29e-892c66fad09e"
      },
      "execution_count": 12,
      "outputs": [
        {
          "output_type": "stream",
          "name": "stdout",
          "text": [
            "/n\n",
            "tensor([[[[-1.6696,  1.8035, -0.1010],\n",
            "          [-0.8668,  3.1325, -1.1151],\n",
            "          [-0.1356,  0.5607, -1.6699]]]])\n",
            "[[-1.66961437  1.80348426 -0.10101961]\n",
            " [-0.86679274  3.13253995 -1.11512261]\n",
            " [-0.13559183  0.5607173  -1.66986351]]\n"
          ]
        }
      ]
    },
    {
      "cell_type": "code",
      "source": [
        "# print(output.grad)"
      ],
      "metadata": {
        "id": "ixtbtOyCL6U8"
      },
      "execution_count": null,
      "outputs": []
    },
    {
      "cell_type": "code",
      "source": [
        "# error_pad = error1.detach().numpy()[0,0]\n",
        "# error_pad = np.pad(error_pad, ((1, 1), (1, 1)), 'constant', constant_values=((0,0), (0,0)))\n",
        "# img_pad2\n",
        "# input_pad = np.pad(input, ((2, 2), (2, 2)), 'constant')\n",
        "dL_dw = convolve(dL_dy_pad, input, output_size = 3)\n",
        "# print(error1.detach().numpy()[0,0].shape)\n",
        "print('dL_dw:', dL_dw)\n",
        "print('m.weight.grad',m.weight.grad)"
      ],
      "metadata": {
        "colab": {
          "base_uri": "https://localhost:8080/"
        },
        "id": "CeqCIUx81TRY",
        "outputId": "45fc44df-a8bb-46eb-c42a-aa6263ee5886"
      },
      "execution_count": 13,
      "outputs": [
        {
          "output_type": "stream",
          "name": "stdout",
          "text": [
            "dL_dw: [[ 10.69583565  -8.6539254    4.8907915 ]\n",
            " [  9.97971688 -13.68672992   7.03434578]\n",
            " [  4.31319354  -7.04011235   8.89302201]]\n",
            "m.weight.grad tensor([[[[  8.8930,  -7.0401,   4.3132],\n",
            "          [  7.0343, -13.6867,   9.9797],\n",
            "          [  4.8908,  -8.6539,  10.6958]]]])\n"
          ]
        }
      ]
    },
    {
      "cell_type": "code",
      "source": [
        "weight_grad = m.weight.grad.detach().numpy()[0,0]\n",
        "weight_grad = weight_grad[::-1,::-1]\n",
        "# print(weight_grad)\n",
        "print(np.abs((weight_grad - dL_dw)).sum())\n"
      ],
      "metadata": {
        "id": "eK032cCeL6Sm",
        "colab": {
          "base_uri": "https://localhost:8080/"
        },
        "outputId": "8daacbeb-40ff-4030-a18b-8355d1e5b795"
      },
      "execution_count": 14,
      "outputs": [
        {
          "output_type": "stream",
          "name": "stdout",
          "text": [
            "5.789721651439095e-06\n"
          ]
        }
      ]
    },
    {
      "cell_type": "code",
      "source": [],
      "metadata": {
        "colab": {
          "base_uri": "https://localhost:8080/"
        },
        "id": "HaHePezDIKuI",
        "outputId": "087b4290-0bbd-4e4f-97b8-48a7664ad6fa"
      },
      "execution_count": null,
      "outputs": [
        {
          "output_type": "execute_result",
          "data": {
            "text/plain": [
              "tensor([[[[-4.9229, -2.6215, -3.0067],\n",
              "          [-2.7976, -0.2435, -2.1570],\n",
              "          [ 1.6515,  2.7533,  1.0473]]]])"
            ]
          },
          "metadata": {},
          "execution_count": 28
        }
      ]
    },
    {
      "cell_type": "code",
      "source": [],
      "metadata": {
        "id": "1HbMO7PsL6QA"
      },
      "execution_count": null,
      "outputs": []
    },
    {
      "cell_type": "code",
      "source": [],
      "metadata": {
        "id": "TMa8wUCCL6Nv"
      },
      "execution_count": null,
      "outputs": []
    },
    {
      "cell_type": "code",
      "source": [
        "W = np.ones(shape=(k,k)).reshape((1,1,k,k))"
      ],
      "metadata": {
        "id": "8Febzn1OL6LU"
      },
      "execution_count": null,
      "outputs": []
    },
    {
      "cell_type": "code",
      "source": [
        "print(W)"
      ],
      "metadata": {
        "colab": {
          "base_uri": "https://localhost:8080/"
        },
        "id": "QO-N5XS8lr96",
        "outputId": "7295baa3-11b2-47b9-8e38-1318871286c1"
      },
      "execution_count": null,
      "outputs": [
        {
          "output_type": "stream",
          "name": "stdout",
          "text": [
            "[[[[1. 1. 1.]\n",
            "   [1. 1. 1.]\n",
            "   [1. 1. 1.]]]]\n"
          ]
        }
      ]
    },
    {
      "cell_type": "code",
      "source": [
        "nn.Paramteters(torch.tensor(W))"
      ],
      "metadata": {
        "id": "UwRjFA1jL6I9"
      },
      "execution_count": null,
      "outputs": []
    },
    {
      "cell_type": "code",
      "source": [],
      "metadata": {
        "id": "-juGeySkL6GW"
      },
      "execution_count": null,
      "outputs": []
    },
    {
      "cell_type": "code",
      "source": [],
      "metadata": {
        "id": "lysmjpvKFYwb"
      },
      "execution_count": null,
      "outputs": []
    },
    {
      "cell_type": "code",
      "source": [],
      "metadata": {
        "id": "B6EgIIwGFYoC"
      },
      "execution_count": null,
      "outputs": []
    },
    {
      "cell_type": "code",
      "source": [],
      "metadata": {
        "id": "_yx9TIReFYQP"
      },
      "execution_count": null,
      "outputs": []
    },
    {
      "cell_type": "code",
      "source": [],
      "metadata": {
        "id": "djwOGLXkFYKa"
      },
      "execution_count": null,
      "outputs": []
    },
    {
      "cell_type": "code",
      "source": [],
      "metadata": {
        "id": "QE7k47jOFYIA"
      },
      "execution_count": null,
      "outputs": []
    },
    {
      "cell_type": "code",
      "source": [],
      "metadata": {
        "id": "NpafN5nWFYF-"
      },
      "execution_count": null,
      "outputs": []
    },
    {
      "cell_type": "code",
      "source": [],
      "metadata": {
        "id": "VI8pADUkFYDM"
      },
      "execution_count": null,
      "outputs": []
    },
    {
      "cell_type": "code",
      "source": [],
      "metadata": {
        "id": "EkL-f38gFYAd"
      },
      "execution_count": null,
      "outputs": []
    },
    {
      "cell_type": "code",
      "source": [],
      "metadata": {
        "id": "g4XJqkWzFX9l"
      },
      "execution_count": null,
      "outputs": []
    },
    {
      "cell_type": "code",
      "source": [],
      "metadata": {
        "id": "iQy6-37vFX6Z"
      },
      "execution_count": null,
      "outputs": []
    },
    {
      "cell_type": "code",
      "source": [],
      "metadata": {
        "id": "TwTQEMacL6EB"
      },
      "execution_count": null,
      "outputs": []
    },
    {
      "cell_type": "code",
      "source": [],
      "metadata": {
        "id": "4OCfSlpSL6Bu"
      },
      "execution_count": null,
      "outputs": []
    },
    {
      "cell_type": "code",
      "source": [],
      "metadata": {
        "id": "5As6eqBcL5_V"
      },
      "execution_count": null,
      "outputs": []
    },
    {
      "cell_type": "code",
      "source": [],
      "metadata": {
        "id": "bTsB9L38L58u"
      },
      "execution_count": null,
      "outputs": []
    },
    {
      "cell_type": "code",
      "source": [
        "# print(output.grad_fn)\n",
        "# loss = nn.CrossEntropyLoss()\n",
        "# target = np.random.randn(n,n)\n",
        "# target = torch.from_numpy(target)\n",
        "# print(target.shape)\n",
        "# output_ = loss(output, target)\n",
        "# print(grad_in[1])"
      ],
      "metadata": {
        "id": "dzBQFz46T3A5"
      },
      "execution_count": null,
      "outputs": []
    },
    {
      "cell_type": "code",
      "source": [
        "# def backward_hook(m, input_gradients, output_gradients):\n",
        "#     print('input_gradients {}'.format(input_gradients))\n",
        "#     print('output_gradients {}'.format(output_gradients))\n",
        "#     input_gradients = (torch.ones_like(input_gradients[0]), )\n",
        "#     return input_gradients\n",
        "\n",
        "# conv = nn.Conv2d(1, 1, 3)\n",
        "# conv.register_full_backward_hook(backward_hook)\n",
        "\n",
        "# x = torch.randn(1, 1, 3, 3).requires_grad_()\n",
        "\n",
        "# out = m(input_t)\n",
        "\n",
        "# out =  target - output\n",
        "# out.mean().backward()\n",
        " # ones # print the gradient using .grad\n",
        "# # print(\"A.grad:\", input_t.grad)"
      ],
      "metadata": {
        "id": "3Gf_6oJWRKBz"
      },
      "execution_count": null,
      "outputs": []
    },
    {
      "cell_type": "code",
      "source": [
        "# loss = nn.CrossEntropyLoss()\n",
        "# output_ = loss(target, output)\n",
        "\n",
        "# loss_ = "
      ],
      "metadata": {
        "id": "mMpAbBEmW3Fy"
      },
      "execution_count": null,
      "outputs": []
    },
    {
      "cell_type": "code",
      "source": [
        "# input = torch.randn(20, 2, 50, 50)"
      ],
      "metadata": {
        "id": "BItLy18IL51_"
      },
      "execution_count": null,
      "outputs": []
    },
    {
      "cell_type": "code",
      "source": [
        "import cv2 \n",
        "import numpy as np"
      ],
      "metadata": {
        "id": "Las_Vckh-JKr"
      },
      "execution_count": null,
      "outputs": []
    },
    {
      "cell_type": "code",
      "source": [
        "class Conv_Module():\n",
        "    def __init__(self, img, ker, b, pad=1, stride=1):            #initialization\n",
        "        \n",
        "        self.img_b, self.img_d, self.img_h, self.img_w=img.shape\n",
        "        self.ker_b, self.ker_d, self.ker_h, self.ker_w=ker.shape\n",
        "        self.b, self.pad, self.stride, self.img, self.ker=b, pad, stride, img, ker\n",
        "        \n",
        "    def __call__(self):                                      \n",
        "        self.out=self.forward(self.img, self.ker)            #forward method is called with images, kernel as input\n",
        "        return self.out\n",
        "    \n",
        "    def forward(self): raise Exception('Not Implemented')    #default raises not implemented error.\n",
        "    def backward(self): return self.bwd(self.out)           #output from the forward method gets passed here as the input.\n"
      ],
      "metadata": {
        "id": "ptXsmia1BdnX"
      },
      "execution_count": null,
      "outputs": []
    },
    {
      "cell_type": "code",
      "source": [],
      "metadata": {
        "id": "HvzEwiooBwwA"
      },
      "execution_count": null,
      "outputs": []
    },
    {
      "cell_type": "code",
      "source": [],
      "metadata": {
        "id": "jejOIb8c_wv6"
      },
      "execution_count": null,
      "outputs": []
    },
    {
      "cell_type": "code",
      "execution_count": null,
      "metadata": {
        "id": "vt6RP8Ru6IEr"
      },
      "outputs": [],
      "source": [
        "\n",
        "# input = np.arange(3,3)\n",
        "# image = np.array([[1, 2, 3], [ 4, 5, 6], [7, 8, 9]])\n",
        "# input = np.random.rand(5,5)\n",
        "\n",
        "# input = np.array([[0, 0, 0, 0,0], [0, 1, 2, 3, 0], [0, 4, 5, 6, 0], [0, 7, 8, 9, 0], [0, 0, 0, 0, 0]])\n",
        "# weight = np.array([[-1, -1, -1], [-1, 0, -1], [-1, -1, -1]]) #np.array([[1, 2], [3, 4]])\n",
        "weight = m.weight.detach().numpy()[0,0]\n"
      ]
    },
    {
      "cell_type": "code",
      "source": [
        "import numpy as np\n",
        "import matplotlib.pyplot as plt\n",
        "img=np.random.rand(1, 1, 10,10)\n",
        "ker=np.random.rand(1, 1, 3,3)"
      ],
      "metadata": {
        "id": "BT9jXKQUBSSD"
      },
      "execution_count": null,
      "outputs": []
    },
    {
      "cell_type": "code",
      "source": [
        "print(input.shape)\n",
        "print(weight.shape)"
      ],
      "metadata": {
        "colab": {
          "base_uri": "https://localhost:8080/"
        },
        "id": "ivx_5DI-JPRA",
        "outputId": "cc06f24b-37a3-4f9e-c9b9-c5277180f580"
      },
      "execution_count": null,
      "outputs": [
        {
          "output_type": "stream",
          "name": "stdout",
          "text": [
            "(5, 5)\n",
            "(3, 3)\n"
          ]
        }
      ]
    },
    {
      "cell_type": "code",
      "source": [
        "m.weight.shape"
      ],
      "metadata": {
        "colab": {
          "base_uri": "https://localhost:8080/",
          "height": 169
        },
        "id": "3Qr_z1uUHKqu",
        "outputId": "bc4e49ef-31f0-4f3f-c8e1-0e2706a965df"
      },
      "execution_count": null,
      "outputs": [
        {
          "output_type": "error",
          "ename": "NameError",
          "evalue": "ignored",
          "traceback": [
            "\u001b[0;31m---------------------------------------------------------------------------\u001b[0m",
            "\u001b[0;31mNameError\u001b[0m                                 Traceback (most recent call last)",
            "\u001b[0;32m<ipython-input-1-3a84e44ab3ff>\u001b[0m in \u001b[0;36m<module>\u001b[0;34m\u001b[0m\n\u001b[0;32m----> 1\u001b[0;31m \u001b[0mm\u001b[0m\u001b[0;34m.\u001b[0m\u001b[0mweight\u001b[0m\u001b[0;34m.\u001b[0m\u001b[0mshape\u001b[0m\u001b[0;34m\u001b[0m\u001b[0;34m\u001b[0m\u001b[0m\n\u001b[0m",
            "\u001b[0;31mNameError\u001b[0m: name 'm' is not defined"
          ]
        }
      ]
    },
    {
      "cell_type": "code",
      "source": [
        "# loss = np.sum(output-image)\n",
        "dL_dy = 2*(input-output1)\n",
        "print(dL_dy)"
      ],
      "metadata": {
        "id": "gDZeB-HoDZco",
        "colab": {
          "base_uri": "https://localhost:8080/"
        },
        "outputId": "10cede4b-abb2-445f-e87e-71223d5efe6f"
      },
      "execution_count": null,
      "outputs": [
        {
          "output_type": "stream",
          "name": "stdout",
          "text": [
            "[[-1.5564955  -2.46030054 -2.21440802 -1.17244977 -0.21756689]\n",
            " [-5.23405529 -4.39268759 -1.98241121 -3.59447544 -0.47502387]\n",
            " [-3.75203804 -2.77445371 -1.72026749 -2.55610292 -1.48946767]\n",
            " [-3.08942276 -2.37246138 -2.04105977 -3.28936444 -0.30321979]\n",
            " [-2.33481116 -1.81979396 -0.3374369  -2.88452972 -0.42143236]]\n"
          ]
        }
      ]
    },
    {
      "cell_type": "code",
      "source": [
        "# dL/dy = \n",
        "# dL/dx =\n",
        "# dL/dw = "
      ],
      "metadata": {
        "id": "CxYLfa5AKxBd"
      },
      "execution_count": null,
      "outputs": []
    },
    {
      "cell_type": "code",
      "source": [
        "m_test = torch.nn.Sigmoid()\n",
        "loss_test = nn.BCELoss()\n",
        "input_test = torch.randn(3, requires_grad=True)\n",
        "target_test = torch.empty(3).random_(2)\n",
        "output_test = loss_test(m_test(input_test), target_test)\n",
        "output_test.backward()"
      ],
      "metadata": {
        "id": "c6IWneQKTm7O"
      },
      "execution_count": null,
      "outputs": []
    },
    {
      "cell_type": "code",
      "source": [
        "output_test"
      ],
      "metadata": {
        "colab": {
          "base_uri": "https://localhost:8080/"
        },
        "id": "cR389uLaTsjL",
        "outputId": "dfdbbc38-cee1-4c03-8d4e-a11f93c36a2d"
      },
      "execution_count": null,
      "outputs": [
        {
          "output_type": "execute_result",
          "data": {
            "text/plain": [
              "tensor(1.2533, grad_fn=<BinaryCrossEntropyBackward0>)"
            ]
          },
          "metadata": {},
          "execution_count": 38
        }
      ]
    },
    {
      "cell_type": "code",
      "source": [
        "input_test"
      ],
      "metadata": {
        "colab": {
          "base_uri": "https://localhost:8080/"
        },
        "id": "XRgAvo6GT_bC",
        "outputId": "f630e578-2438-4007-a1e4-6773a3582b31"
      },
      "execution_count": null,
      "outputs": [
        {
          "output_type": "execute_result",
          "data": {
            "text/plain": [
              "tensor([-1.6157,  0.2495,  0.7506], requires_grad=True)"
            ]
          },
          "metadata": {},
          "execution_count": 39
        }
      ]
    },
    {
      "cell_type": "code",
      "source": [
        "target_test"
      ],
      "metadata": {
        "colab": {
          "base_uri": "https://localhost:8080/"
        },
        "id": "_oCE1uvMUaQ_",
        "outputId": "7f5eddec-8b62-4c64-d18d-a0982369d704"
      },
      "execution_count": null,
      "outputs": [
        {
          "output_type": "execute_result",
          "data": {
            "text/plain": [
              "tensor([1., 0., 0.])"
            ]
          },
          "metadata": {},
          "execution_count": 40
        }
      ]
    },
    {
      "cell_type": "code",
      "source": [
        "m_test(input_test)"
      ],
      "metadata": {
        "colab": {
          "base_uri": "https://localhost:8080/"
        },
        "id": "MfmgHhZBUb0Q",
        "outputId": "b976a40b-30bb-4e28-8320-f19e037ae55e"
      },
      "execution_count": null,
      "outputs": [
        {
          "output_type": "execute_result",
          "data": {
            "text/plain": [
              "tensor([0.1658, 0.5620, 0.6793], grad_fn=<SigmoidBackward0>)"
            ]
          },
          "metadata": {},
          "execution_count": 41
        }
      ]
    },
    {
      "cell_type": "code",
      "source": [],
      "metadata": {
        "id": "-C8-X5NsUkO3"
      },
      "execution_count": null,
      "outputs": []
    }
  ]
}